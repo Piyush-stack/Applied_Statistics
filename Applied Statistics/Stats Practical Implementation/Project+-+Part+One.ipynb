{
 "cells": [
  {
   "cell_type": "markdown",
   "metadata": {},
   "source": [
    "Q2.\n",
    "\n",
    "\t\ta. P(X=0) = combination formula (10 is to 0)(0.05)power0(0.95)power10=0.5987\n",
    "\t\tb. P(X=1) = combination formula (10 is to 1)(0.05)power1(0.95)power9= 0.315\n",
    "\t\tc. P(X<=2) = 2 Summation x=0 [combination formula (10 is to x)(0.05)powerx(0.95)power (10-x)]=0.987\n",
    "P(X>=3) = 1- P(x<3) = 1- P(x<=2) = 1-0.987 = 0.013"
   ]
  },
  {
   "cell_type": "markdown",
   "metadata": {},
   "source": [
    "Q3.\n",
    "\n",
    "\t\tA. m = 3\n",
    "\t\t(a) \"Some policies\" means \"1 or more policies\": \n",
    "\t\t30𝑒−3\n",
    "\t\t𝑃(𝑋 = 𝑥0) = 0! = 0.04.9787 \n",
    "\t\t𝑃(𝑋 ≥ 1) = 0.95021 \n",
    "\t\t\n",
    "\t\tB. The probability of selling 2 or more, but less than 5 policies is: \n",
    "\t\t32𝑒−3 33𝑒−3 34𝑒−3 𝑃(2≤𝑋<5)= 2! + 3! + 4! =0.61611"
   ]
  },
  {
   "cell_type": "markdown",
   "metadata": {},
   "source": [
    "Q4.  \n",
    "\tP(all 3 successful) = P(first OK) and P(second OK) and P(third OK)\n",
    "\t--> 0.86 * 0.86 * 0.86\n",
    "\t--> 0.636\n",
    "\t\n",
    "\tb) P(none successful) = P(first not) and P(second not) and P(third not)\n",
    "\t--> 0.14 * 0.14 * 0.14\n",
    "\t--> 0.0027 \n",
    "\t\n",
    "\tc) P(at least 2 of the 3) means a few things: It means... \n",
    "\t1. P(first OK) and P(second OK) and P(third OK)\n",
    "\t\n",
    "\tOR\n",
    "\t2. P(first OK) and P(second OK) and P(third not)\n",
    "\tOR\n",
    "\t3. P(first OK) and P(second not) and P(third OK)\n",
    "\tOR\n",
    "\t4. P(first not) and P(second OK) and P(third OK) \n",
    "\t\n",
    "\t1. is answer to a).\n",
    "\tNext three versions (2, 3, 4) are each 0.86*0.86*0.14-->0.1035. \n",
    "\t\n",
    "\tAs there are 3 different routes to get to it... 2, 3 or 4, so the probability is 3*0.1035 --> 0.3106\n",
    "\tSo total probability of getting 2 or more orders correct is 0.636+0.3106--> 0.946"
   ]
  },
  {
   "cell_type": "markdown",
   "metadata": {},
   "source": [
    "Q5.  \n",
    "\tA. n=300\n",
    "\tX1=80\n",
    "\tmean m=60\n",
    "\tstd deviation s=12\n",
    "\tfor normal distribution, we need to convert X1 to  Z1 \n",
    "\tZ1=(X1-m)/s \n",
    "\ton substituting values we get Z1=1.66 \n",
    "\tNow we see values of area A1(1.66), corresponding to Z1  from cumulative normal distribution table.\n",
    "\tA1=0.9515\n",
    "\t\n",
    "\tNo. of students above 80=(1-0.9515)X300=14.5\n",
    "\tPercentage = 4.66%\n",
    "\t\n",
    "\tB. n=300 \n",
    "\tX2=50\n",
    "\tmean m=60 \n",
    "\tstd deviation s=12\n",
    "\tfor normal distribution, we need to convert X2 to  Z2\n",
    "\tZ2=(X2-m)/s\n",
    "\ton substituting values we get Z2=-0.83 \n",
    "\tNow we see values of areas A2(-0.83)  Z2 from cumulative normal distribution table.\n",
    "\tA2=1-0.7967=0.2023 (Since Z2 is Negative)\n",
    "\t\n",
    "\tNo of students below 50=0.2023X300=60.69 (on rounding off)\n",
    "\tPercentage: 20.23%\n",
    "\t\n",
    "\tC. The nearest to 90% =0.9 on the normal tables is 0.5+0.3997\n",
    "\tz for 0.3997 =1.28\n",
    "\tz= [x-u]/s > /= 1.28\n",
    "\tz=[ x-60]/12 > 1.28\n",
    "\tx >[ 1.28]12 +60 =75.36 marks\n",
    "\tThat is , a grade must be greater than 75.36 marks in order to fall into the top 10%"
   ]
  }
 ],
 "metadata": {
  "kernelspec": {
   "display_name": "Python 3",
   "language": "python",
   "name": "python3"
  },
  "language_info": {
   "codemirror_mode": {
    "name": "ipython",
    "version": 3
   },
   "file_extension": ".py",
   "mimetype": "text/x-python",
   "name": "python",
   "nbconvert_exporter": "python",
   "pygments_lexer": "ipython3",
   "version": "3.7.3"
  }
 },
 "nbformat": 4,
 "nbformat_minor": 2
}
